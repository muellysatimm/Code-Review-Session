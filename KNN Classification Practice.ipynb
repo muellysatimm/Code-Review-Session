{
 "cells": [
  {
   "cell_type": "markdown",
   "id": "9a21f812-7599-4d5d-a623-bb4f0fcf84d9",
   "metadata": {},
   "source": [
    "# K-NN Classification Practice \n",
    "## Using the forest fire data set"
   ]
  },
  {
   "cell_type": "code",
   "execution_count": 2,
   "id": "3894c1cd-5794-4831-a8e6-de45396535d0",
   "metadata": {},
   "outputs": [
    {
     "name": "stderr",
     "output_type": "stream",
     "text": [
      "── \u001b[1mAttaching packages\u001b[22m ─────────────────────────────────────── tidyverse 1.3.1 ──\n",
      "\n",
      "\u001b[32m✔\u001b[39m \u001b[34mggplot2\u001b[39m 3.3.6     \u001b[32m✔\u001b[39m \u001b[34mpurrr  \u001b[39m 0.3.4\n",
      "\u001b[32m✔\u001b[39m \u001b[34mtibble \u001b[39m 3.1.7     \u001b[32m✔\u001b[39m \u001b[34mdplyr  \u001b[39m 1.0.9\n",
      "\u001b[32m✔\u001b[39m \u001b[34mtidyr  \u001b[39m 1.2.0     \u001b[32m✔\u001b[39m \u001b[34mstringr\u001b[39m 1.4.0\n",
      "\u001b[32m✔\u001b[39m \u001b[34mreadr  \u001b[39m 2.1.2     \u001b[32m✔\u001b[39m \u001b[34mforcats\u001b[39m 0.5.1\n",
      "\n",
      "── \u001b[1mConflicts\u001b[22m ────────────────────────────────────────── tidyverse_conflicts() ──\n",
      "\u001b[31m✖\u001b[39m \u001b[34mdplyr\u001b[39m::\u001b[32mfilter()\u001b[39m masks \u001b[34mstats\u001b[39m::filter()\n",
      "\u001b[31m✖\u001b[39m \u001b[34mdplyr\u001b[39m::\u001b[32mlag()\u001b[39m    masks \u001b[34mstats\u001b[39m::lag()\n",
      "\n",
      "── \u001b[1mAttaching packages\u001b[22m ────────────────────────────────────── tidymodels 1.0.0 ──\n",
      "\n",
      "\u001b[32m✔\u001b[39m \u001b[34mbroom       \u001b[39m 1.0.0     \u001b[32m✔\u001b[39m \u001b[34mrsample     \u001b[39m 1.0.0\n",
      "\u001b[32m✔\u001b[39m \u001b[34mdials       \u001b[39m 1.0.0     \u001b[32m✔\u001b[39m \u001b[34mtune        \u001b[39m 1.0.0\n",
      "\u001b[32m✔\u001b[39m \u001b[34minfer       \u001b[39m 1.0.2     \u001b[32m✔\u001b[39m \u001b[34mworkflows   \u001b[39m 1.0.0\n",
      "\u001b[32m✔\u001b[39m \u001b[34mmodeldata   \u001b[39m 1.0.0     \u001b[32m✔\u001b[39m \u001b[34mworkflowsets\u001b[39m 1.0.0\n",
      "\u001b[32m✔\u001b[39m \u001b[34mparsnip     \u001b[39m 1.0.0     \u001b[32m✔\u001b[39m \u001b[34myardstick   \u001b[39m 1.0.0\n",
      "\u001b[32m✔\u001b[39m \u001b[34mrecipes     \u001b[39m 1.0.1     \n",
      "\n",
      "── \u001b[1mConflicts\u001b[22m ───────────────────────────────────────── tidymodels_conflicts() ──\n",
      "\u001b[31m✖\u001b[39m \u001b[34mscales\u001b[39m::\u001b[32mdiscard()\u001b[39m masks \u001b[34mpurrr\u001b[39m::discard()\n",
      "\u001b[31m✖\u001b[39m \u001b[34mdplyr\u001b[39m::\u001b[32mfilter()\u001b[39m   masks \u001b[34mstats\u001b[39m::filter()\n",
      "\u001b[31m✖\u001b[39m \u001b[34mrecipes\u001b[39m::\u001b[32mfixed()\u001b[39m  masks \u001b[34mstringr\u001b[39m::fixed()\n",
      "\u001b[31m✖\u001b[39m \u001b[34mdplyr\u001b[39m::\u001b[32mlag()\u001b[39m      masks \u001b[34mstats\u001b[39m::lag()\n",
      "\u001b[31m✖\u001b[39m \u001b[34myardstick\u001b[39m::\u001b[32mspec()\u001b[39m masks \u001b[34mreadr\u001b[39m::spec()\n",
      "\u001b[31m✖\u001b[39m \u001b[34mrecipes\u001b[39m::\u001b[32mstep()\u001b[39m   masks \u001b[34mstats\u001b[39m::step()\n",
      "\u001b[34m•\u001b[39m Search for functions across packages at \u001b[32mhttps://www.tidymodels.org/find/\u001b[39m\n",
      "\n"
     ]
    }
   ],
   "source": [
    "library(tidyverse)\n",
    "library(repr)\n",
    "library(tidymodels)\n",
    "options(repr.matrix.max.rows = 6) #limits output of dataframes to 6 rows"
   ]
  },
  {
   "cell_type": "code",
   "execution_count": 3,
   "id": "90ad3f94-c85c-4f32-b3c0-7a47c10148a8",
   "metadata": {},
   "outputs": [
    {
     "name": "stderr",
     "output_type": "stream",
     "text": [
      "\u001b[1mRows: \u001b[22m\u001b[34m244\u001b[39m \u001b[1mColumns: \u001b[22m\u001b[34m15\u001b[39m\n",
      "\u001b[36m──\u001b[39m \u001b[1mColumn specification\u001b[22m \u001b[36m────────────────────────────────────────────────────────\u001b[39m\n",
      "\u001b[1mDelimiter:\u001b[22m \",\"\n",
      "\u001b[31mchr\u001b[39m  (2): region, Classes\n",
      "\u001b[32mdbl\u001b[39m (13): day, month, year, Temperature, RH, Ws, Rain, FFMC, DMC, DC, ISI, B...\n",
      "\n",
      "\u001b[36mℹ\u001b[39m Use `spec()` to retrieve the full column specification for this data.\n",
      "\u001b[36mℹ\u001b[39m Specify the column types or set `show_col_types = FALSE` to quiet this message.\n"
     ]
    },
    {
     "data": {
      "text/html": [
       "<table class=\"dataframe\">\n",
       "<caption>A tibble: 244 × 15</caption>\n",
       "<thead>\n",
       "\t<tr><th scope=col>region</th><th scope=col>day</th><th scope=col>month</th><th scope=col>year</th><th scope=col>Temperature</th><th scope=col>RH</th><th scope=col>Ws</th><th scope=col>Rain</th><th scope=col>FFMC</th><th scope=col>DMC</th><th scope=col>DC</th><th scope=col>ISI</th><th scope=col>BUI</th><th scope=col>FWI</th><th scope=col>Classes</th></tr>\n",
       "\t<tr><th scope=col>&lt;chr&gt;</th><th scope=col>&lt;dbl&gt;</th><th scope=col>&lt;dbl&gt;</th><th scope=col>&lt;dbl&gt;</th><th scope=col>&lt;dbl&gt;</th><th scope=col>&lt;dbl&gt;</th><th scope=col>&lt;dbl&gt;</th><th scope=col>&lt;dbl&gt;</th><th scope=col>&lt;dbl&gt;</th><th scope=col>&lt;dbl&gt;</th><th scope=col>&lt;dbl&gt;</th><th scope=col>&lt;dbl&gt;</th><th scope=col>&lt;dbl&gt;</th><th scope=col>&lt;dbl&gt;</th><th scope=col>&lt;fct&gt;</th></tr>\n",
       "</thead>\n",
       "<tbody>\n",
       "\t<tr><td>Bejaia</td><td>1</td><td>6</td><td>2012</td><td>29</td><td>57</td><td>18</td><td> 0.0</td><td>65.7</td><td>3.4</td><td>7.6</td><td>1.3</td><td>3.4</td><td>0.5</td><td>not fire</td></tr>\n",
       "\t<tr><td>Bejaia</td><td>2</td><td>6</td><td>2012</td><td>29</td><td>61</td><td>13</td><td> 1.3</td><td>64.4</td><td>4.1</td><td>7.6</td><td>1.0</td><td>3.9</td><td>0.4</td><td>not fire</td></tr>\n",
       "\t<tr><td>Bejaia</td><td>3</td><td>6</td><td>2012</td><td>26</td><td>82</td><td>22</td><td>13.1</td><td>47.1</td><td>2.5</td><td>7.1</td><td>0.3</td><td>2.7</td><td>0.1</td><td>not fire</td></tr>\n",
       "\t<tr><td>⋮</td><td>⋮</td><td>⋮</td><td>⋮</td><td>⋮</td><td>⋮</td><td>⋮</td><td>⋮</td><td>⋮</td><td>⋮</td><td>⋮</td><td>⋮</td><td>⋮</td><td>⋮</td><td>⋮</td></tr>\n",
       "\t<tr><td>Sidi-Bel Abbes</td><td>28</td><td>9</td><td>2012</td><td>27</td><td>87</td><td>29</td><td>0.5</td><td>45.9</td><td>3.5</td><td> 7.9</td><td>0.4</td><td>3.4</td><td>0.2</td><td>not fire</td></tr>\n",
       "\t<tr><td>Sidi-Bel Abbes</td><td>29</td><td>9</td><td>2012</td><td>24</td><td>54</td><td>18</td><td>0.1</td><td>79.7</td><td>4.3</td><td>15.2</td><td>1.7</td><td>5.1</td><td>0.7</td><td>not fire</td></tr>\n",
       "\t<tr><td>Sidi-Bel Abbes</td><td>30</td><td>9</td><td>2012</td><td>24</td><td>64</td><td>15</td><td>0.2</td><td>67.3</td><td>3.8</td><td>16.5</td><td>1.2</td><td>4.8</td><td>0.5</td><td>not fire</td></tr>\n",
       "</tbody>\n",
       "</table>\n"
      ],
      "text/latex": [
       "A tibble: 244 × 15\n",
       "\\begin{tabular}{lllllllllllllll}\n",
       " region & day & month & year & Temperature & RH & Ws & Rain & FFMC & DMC & DC & ISI & BUI & FWI & Classes\\\\\n",
       " <chr> & <dbl> & <dbl> & <dbl> & <dbl> & <dbl> & <dbl> & <dbl> & <dbl> & <dbl> & <dbl> & <dbl> & <dbl> & <dbl> & <fct>\\\\\n",
       "\\hline\n",
       "\t Bejaia & 1 & 6 & 2012 & 29 & 57 & 18 &  0.0 & 65.7 & 3.4 & 7.6 & 1.3 & 3.4 & 0.5 & not fire\\\\\n",
       "\t Bejaia & 2 & 6 & 2012 & 29 & 61 & 13 &  1.3 & 64.4 & 4.1 & 7.6 & 1.0 & 3.9 & 0.4 & not fire\\\\\n",
       "\t Bejaia & 3 & 6 & 2012 & 26 & 82 & 22 & 13.1 & 47.1 & 2.5 & 7.1 & 0.3 & 2.7 & 0.1 & not fire\\\\\n",
       "\t ⋮ & ⋮ & ⋮ & ⋮ & ⋮ & ⋮ & ⋮ & ⋮ & ⋮ & ⋮ & ⋮ & ⋮ & ⋮ & ⋮ & ⋮\\\\\n",
       "\t Sidi-Bel Abbes & 28 & 9 & 2012 & 27 & 87 & 29 & 0.5 & 45.9 & 3.5 &  7.9 & 0.4 & 3.4 & 0.2 & not fire\\\\\n",
       "\t Sidi-Bel Abbes & 29 & 9 & 2012 & 24 & 54 & 18 & 0.1 & 79.7 & 4.3 & 15.2 & 1.7 & 5.1 & 0.7 & not fire\\\\\n",
       "\t Sidi-Bel Abbes & 30 & 9 & 2012 & 24 & 64 & 15 & 0.2 & 67.3 & 3.8 & 16.5 & 1.2 & 4.8 & 0.5 & not fire\\\\\n",
       "\\end{tabular}\n"
      ],
      "text/markdown": [
       "\n",
       "A tibble: 244 × 15\n",
       "\n",
       "| region &lt;chr&gt; | day &lt;dbl&gt; | month &lt;dbl&gt; | year &lt;dbl&gt; | Temperature &lt;dbl&gt; | RH &lt;dbl&gt; | Ws &lt;dbl&gt; | Rain &lt;dbl&gt; | FFMC &lt;dbl&gt; | DMC &lt;dbl&gt; | DC &lt;dbl&gt; | ISI &lt;dbl&gt; | BUI &lt;dbl&gt; | FWI &lt;dbl&gt; | Classes &lt;fct&gt; |\n",
       "|---|---|---|---|---|---|---|---|---|---|---|---|---|---|---|\n",
       "| Bejaia | 1 | 6 | 2012 | 29 | 57 | 18 |  0.0 | 65.7 | 3.4 | 7.6 | 1.3 | 3.4 | 0.5 | not fire |\n",
       "| Bejaia | 2 | 6 | 2012 | 29 | 61 | 13 |  1.3 | 64.4 | 4.1 | 7.6 | 1.0 | 3.9 | 0.4 | not fire |\n",
       "| Bejaia | 3 | 6 | 2012 | 26 | 82 | 22 | 13.1 | 47.1 | 2.5 | 7.1 | 0.3 | 2.7 | 0.1 | not fire |\n",
       "| ⋮ | ⋮ | ⋮ | ⋮ | ⋮ | ⋮ | ⋮ | ⋮ | ⋮ | ⋮ | ⋮ | ⋮ | ⋮ | ⋮ | ⋮ |\n",
       "| Sidi-Bel Abbes | 28 | 9 | 2012 | 27 | 87 | 29 | 0.5 | 45.9 | 3.5 |  7.9 | 0.4 | 3.4 | 0.2 | not fire |\n",
       "| Sidi-Bel Abbes | 29 | 9 | 2012 | 24 | 54 | 18 | 0.1 | 79.7 | 4.3 | 15.2 | 1.7 | 5.1 | 0.7 | not fire |\n",
       "| Sidi-Bel Abbes | 30 | 9 | 2012 | 24 | 64 | 15 | 0.2 | 67.3 | 3.8 | 16.5 | 1.2 | 4.8 | 0.5 | not fire |\n",
       "\n"
      ],
      "text/plain": [
       "    region         day month year Temperature RH Ws Rain FFMC DMC DC   ISI BUI\n",
       "1   Bejaia         1   6     2012 29          57 18  0.0 65.7 3.4 7.6  1.3 3.4\n",
       "2   Bejaia         2   6     2012 29          61 13  1.3 64.4 4.1 7.6  1.0 3.9\n",
       "3   Bejaia         3   6     2012 26          82 22 13.1 47.1 2.5 7.1  0.3 2.7\n",
       "⋮   ⋮              ⋮   ⋮     ⋮    ⋮           ⋮  ⋮  ⋮    ⋮    ⋮   ⋮    ⋮   ⋮  \n",
       "242 Sidi-Bel Abbes 28  9     2012 27          87 29 0.5  45.9 3.5  7.9 0.4 3.4\n",
       "243 Sidi-Bel Abbes 29  9     2012 24          54 18 0.1  79.7 4.3 15.2 1.7 5.1\n",
       "244 Sidi-Bel Abbes 30  9     2012 24          64 15 0.2  67.3 3.8 16.5 1.2 4.8\n",
       "    FWI Classes \n",
       "1   0.5 not fire\n",
       "2   0.4 not fire\n",
       "3   0.1 not fire\n",
       "⋮   ⋮   ⋮       \n",
       "242 0.2 not fire\n",
       "243 0.7 not fire\n",
       "244 0.5 not fire"
      ]
     },
     "metadata": {},
     "output_type": "display_data"
    }
   ],
   "source": [
    "forest <- read_csv(\"data_2/forest_fires_cleaned.csv\") %>% \n",
    "        mutate(Classes = as_factor(Classes)) \n",
    "forest"
   ]
  },
  {
   "cell_type": "code",
   "execution_count": 5,
   "id": "eecb85bd-32a6-4035-ae8c-b726a85f1c9c",
   "metadata": {},
   "outputs": [],
   "source": [
    "set.seed(1)\n",
    "forest_split <- initial_split(forest, prop = 0.70, strata = Classes) \n",
    "forest_train <- training(forest_split)\n",
    "forest_test <- testing(forest_split)\n"
   ]
  },
  {
   "cell_type": "code",
   "execution_count": 7,
   "id": "d2ce1ea8-165f-4d67-83a7-1060170083f3",
   "metadata": {},
   "outputs": [
    {
     "data": {
      "text/html": [
       "<table class=\"dataframe\">\n",
       "<caption>A tibble: 25 × 7</caption>\n",
       "<thead>\n",
       "\t<tr><th scope=col>neighbors</th><th scope=col>.metric</th><th scope=col>.estimator</th><th scope=col>mean</th><th scope=col>n</th><th scope=col>std_err</th><th scope=col>.config</th></tr>\n",
       "\t<tr><th scope=col>&lt;int&gt;</th><th scope=col>&lt;chr&gt;</th><th scope=col>&lt;chr&gt;</th><th scope=col>&lt;dbl&gt;</th><th scope=col>&lt;int&gt;</th><th scope=col>&lt;dbl&gt;</th><th scope=col>&lt;chr&gt;</th></tr>\n",
       "</thead>\n",
       "<tbody>\n",
       "\t<tr><td>1</td><td>accuracy</td><td>binary</td><td>0.9590686</td><td>10</td><td>0.008968093</td><td>Preprocessor1_Model01</td></tr>\n",
       "\t<tr><td>2</td><td>accuracy</td><td>binary</td><td>0.9590686</td><td>10</td><td>0.008968093</td><td>Preprocessor1_Model02</td></tr>\n",
       "\t<tr><td>3</td><td>accuracy</td><td>binary</td><td>0.9649918</td><td>10</td><td>0.012963371</td><td>Preprocessor1_Model03</td></tr>\n",
       "\t<tr><td>⋮</td><td>⋮</td><td>⋮</td><td>⋮</td><td>⋮</td><td>⋮</td><td>⋮</td></tr>\n",
       "\t<tr><td>23</td><td>accuracy</td><td>binary</td><td>0.9702206</td><td>10</td><td>0.01588842</td><td>Preprocessor1_Model23</td></tr>\n",
       "\t<tr><td>24</td><td>accuracy</td><td>binary</td><td>0.9702206</td><td>10</td><td>0.01588842</td><td>Preprocessor1_Model24</td></tr>\n",
       "\t<tr><td>25</td><td>accuracy</td><td>binary</td><td>0.9702206</td><td>10</td><td>0.01588842</td><td>Preprocessor1_Model25</td></tr>\n",
       "</tbody>\n",
       "</table>\n"
      ],
      "text/latex": [
       "A tibble: 25 × 7\n",
       "\\begin{tabular}{lllllll}\n",
       " neighbors & .metric & .estimator & mean & n & std\\_err & .config\\\\\n",
       " <int> & <chr> & <chr> & <dbl> & <int> & <dbl> & <chr>\\\\\n",
       "\\hline\n",
       "\t 1 & accuracy & binary & 0.9590686 & 10 & 0.008968093 & Preprocessor1\\_Model01\\\\\n",
       "\t 2 & accuracy & binary & 0.9590686 & 10 & 0.008968093 & Preprocessor1\\_Model02\\\\\n",
       "\t 3 & accuracy & binary & 0.9649918 & 10 & 0.012963371 & Preprocessor1\\_Model03\\\\\n",
       "\t ⋮ & ⋮ & ⋮ & ⋮ & ⋮ & ⋮ & ⋮\\\\\n",
       "\t 23 & accuracy & binary & 0.9702206 & 10 & 0.01588842 & Preprocessor1\\_Model23\\\\\n",
       "\t 24 & accuracy & binary & 0.9702206 & 10 & 0.01588842 & Preprocessor1\\_Model24\\\\\n",
       "\t 25 & accuracy & binary & 0.9702206 & 10 & 0.01588842 & Preprocessor1\\_Model25\\\\\n",
       "\\end{tabular}\n"
      ],
      "text/markdown": [
       "\n",
       "A tibble: 25 × 7\n",
       "\n",
       "| neighbors &lt;int&gt; | .metric &lt;chr&gt; | .estimator &lt;chr&gt; | mean &lt;dbl&gt; | n &lt;int&gt; | std_err &lt;dbl&gt; | .config &lt;chr&gt; |\n",
       "|---|---|---|---|---|---|---|\n",
       "| 1 | accuracy | binary | 0.9590686 | 10 | 0.008968093 | Preprocessor1_Model01 |\n",
       "| 2 | accuracy | binary | 0.9590686 | 10 | 0.008968093 | Preprocessor1_Model02 |\n",
       "| 3 | accuracy | binary | 0.9649918 | 10 | 0.012963371 | Preprocessor1_Model03 |\n",
       "| ⋮ | ⋮ | ⋮ | ⋮ | ⋮ | ⋮ | ⋮ |\n",
       "| 23 | accuracy | binary | 0.9702206 | 10 | 0.01588842 | Preprocessor1_Model23 |\n",
       "| 24 | accuracy | binary | 0.9702206 | 10 | 0.01588842 | Preprocessor1_Model24 |\n",
       "| 25 | accuracy | binary | 0.9702206 | 10 | 0.01588842 | Preprocessor1_Model25 |\n",
       "\n"
      ],
      "text/plain": [
       "   neighbors .metric  .estimator mean      n  std_err     .config              \n",
       "1  1         accuracy binary     0.9590686 10 0.008968093 Preprocessor1_Model01\n",
       "2  2         accuracy binary     0.9590686 10 0.008968093 Preprocessor1_Model02\n",
       "3  3         accuracy binary     0.9649918 10 0.012963371 Preprocessor1_Model03\n",
       "⋮  ⋮         ⋮        ⋮          ⋮         ⋮  ⋮           ⋮                    \n",
       "23 23        accuracy binary     0.9702206 10 0.01588842  Preprocessor1_Model23\n",
       "24 24        accuracy binary     0.9702206 10 0.01588842  Preprocessor1_Model24\n",
       "25 25        accuracy binary     0.9702206 10 0.01588842  Preprocessor1_Model25"
      ]
     },
     "metadata": {},
     "output_type": "display_data"
    }
   ],
   "source": [
    "# set the seed\n",
    "set.seed(1) \n",
    "# create the recipe  \n",
    "forest_recipe <- recipe(Classes ~ Rain + FFMC + ISI, data = forest_train) %>% \n",
    "                step_scale(all_predictors()) %>% \n",
    "                step_center(all_predictors()) \n",
    "\n",
    "# create model using tune()\n",
    "forest_spec <- nearest_neighbor(weight_func = \"rectangular\", neighbors = tune()) %>% \n",
    "            set_engine(\"kknn\") %>% \n",
    "            set_mode(\"classification\") \n",
    "\n",
    "# create the cross-validation\n",
    "forest_vfold <- vfold_cv(forest_train, v = 10, strata = Classes) \n",
    "gridvals <- tibble(neighbors = seq(1,25)) \n",
    "\n",
    "# obtain results using the workflow()\n",
    "forest_results <- workflow() %>% \n",
    "            add_recipe(forest_recipe) %>% \n",
    "            add_model(forest_spec) %>% \n",
    "            tune_grid(resamples = forest_vfold, grid = gridvals) %>% \n",
    "            collect_metrics() %>% \n",
    "            filter(.metric == \"accuracy\") \n",
    "\n",
    "forest_results "
   ]
  },
  {
   "cell_type": "code",
   "execution_count": 15,
   "id": "52666120-9154-4477-a85a-2da83130c2d9",
   "metadata": {},
   "outputs": [
    {
     "data": {
      "image/png": "[encoded data removed]",
      "text/plain": [
       "plot without title"
      ]
     },
     "metadata": {
      "image/png": {
       "height": 720,
       "width": 600
      }
     },
     "output_type": "display_data"
    }
   ],
   "source": [
    "options(repr.plot.width = 10, repr.plot.height = 12) \n",
    "\n",
    "ky <- forest_results %>% \n",
    "    filter(neighbors == 13) %>% \n",
    "    select(mean) %>% \n",
    "    pull()\n",
    "\n",
    "# create plot to see what the optimal k-value to use \n",
    "\n",
    "forest_plot <- ggplot(forest_results, aes(x = neighbors, y = mean)) + \n",
    "                    geom_point() + \n",
    "                    geom_line() + \n",
    "                    labs(x = \"\\nNeighbours\",\n",
    "                         y = \"Accuracy Estimate\\n\",\n",
    "                         title = \"Estimated Accuracies of k Neighbours\") +\n",
    "                    theme(text = element_text(size = 20))\n",
    "forest_plot"
   ]
  },
  {
   "cell_type": "code",
   "execution_count": 17,
   "id": "8f2a008e-fec1-4717-84e5-934779c24912",
   "metadata": {},
   "outputs": [
    {
     "data": {
      "text/html": [
       "<table class=\"dataframe\">\n",
       "<caption>A tibble: 74 × 16</caption>\n",
       "<thead>\n",
       "\t<tr><th scope=col>.pred_class</th><th scope=col>region</th><th scope=col>day</th><th scope=col>month</th><th scope=col>year</th><th scope=col>Temperature</th><th scope=col>RH</th><th scope=col>Ws</th><th scope=col>Rain</th><th scope=col>FFMC</th><th scope=col>DMC</th><th scope=col>DC</th><th scope=col>ISI</th><th scope=col>BUI</th><th scope=col>FWI</th><th scope=col>Classes</th></tr>\n",
       "\t<tr><th scope=col>&lt;fct&gt;</th><th scope=col>&lt;chr&gt;</th><th scope=col>&lt;dbl&gt;</th><th scope=col>&lt;dbl&gt;</th><th scope=col>&lt;dbl&gt;</th><th scope=col>&lt;dbl&gt;</th><th scope=col>&lt;dbl&gt;</th><th scope=col>&lt;dbl&gt;</th><th scope=col>&lt;dbl&gt;</th><th scope=col>&lt;dbl&gt;</th><th scope=col>&lt;dbl&gt;</th><th scope=col>&lt;dbl&gt;</th><th scope=col>&lt;dbl&gt;</th><th scope=col>&lt;dbl&gt;</th><th scope=col>&lt;dbl&gt;</th><th scope=col>&lt;fct&gt;</th></tr>\n",
       "</thead>\n",
       "<tbody>\n",
       "\t<tr><td>not fire</td><td>Bejaia</td><td>4</td><td>6</td><td>2012</td><td>25</td><td>89</td><td>13</td><td>2.5</td><td>28.6</td><td> 1.3</td><td> 6.9</td><td>0.0</td><td> 1.7</td><td>0.0</td><td>not fire</td></tr>\n",
       "\t<tr><td>fire    </td><td>Bejaia</td><td>8</td><td>6</td><td>2012</td><td>30</td><td>73</td><td>15</td><td>0.0</td><td>86.6</td><td>12.1</td><td>38.3</td><td>5.6</td><td>13.5</td><td>7.1</td><td>fire    </td></tr>\n",
       "\t<tr><td>not fire</td><td>Bejaia</td><td>9</td><td>6</td><td>2012</td><td>25</td><td>88</td><td>13</td><td>0.2</td><td>52.9</td><td> 7.9</td><td>38.8</td><td>0.4</td><td>10.5</td><td>0.3</td><td>not fire</td></tr>\n",
       "\t<tr><td>⋮</td><td>⋮</td><td>⋮</td><td>⋮</td><td>⋮</td><td>⋮</td><td>⋮</td><td>⋮</td><td>⋮</td><td>⋮</td><td>⋮</td><td>⋮</td><td>⋮</td><td>⋮</td><td>⋮</td><td>⋮</td></tr>\n",
       "\t<tr><td>fire    </td><td>Sidi-Bel Abbes</td><td>26</td><td>9</td><td>2012</td><td>30</td><td>65</td><td>14</td><td>0.0</td><td>85.4</td><td>16.0</td><td>44.5</td><td>4.5</td><td>16.9</td><td>6.5</td><td>fire    </td></tr>\n",
       "\t<tr><td>not fire</td><td>Sidi-Bel Abbes</td><td>28</td><td>9</td><td>2012</td><td>27</td><td>87</td><td>29</td><td>0.5</td><td>45.9</td><td> 3.5</td><td> 7.9</td><td>0.4</td><td> 3.4</td><td>0.2</td><td>not fire</td></tr>\n",
       "\t<tr><td>not fire</td><td>Sidi-Bel Abbes</td><td>29</td><td>9</td><td>2012</td><td>24</td><td>54</td><td>18</td><td>0.1</td><td>79.7</td><td> 4.3</td><td>15.2</td><td>1.7</td><td> 5.1</td><td>0.7</td><td>not fire</td></tr>\n",
       "</tbody>\n",
       "</table>\n"
      ],
      "text/latex": [
       "A tibble: 74 × 16\n",
       "\\begin{tabular}{llllllllllllllll}\n",
       " .pred\\_class & region & day & month & year & Temperature & RH & Ws & Rain & FFMC & DMC & DC & ISI & BUI & FWI & Classes\\\\\n",
       " <fct> & <chr> & <dbl> & <dbl> & <dbl> & <dbl> & <dbl> & <dbl> & <dbl> & <dbl> & <dbl> & <dbl> & <dbl> & <dbl> & <dbl> & <fct>\\\\\n",
       "\\hline\n",
       "\t not fire & Bejaia & 4 & 6 & 2012 & 25 & 89 & 13 & 2.5 & 28.6 &  1.3 &  6.9 & 0.0 &  1.7 & 0.0 & not fire\\\\\n",
       "\t fire     & Bejaia & 8 & 6 & 2012 & 30 & 73 & 15 & 0.0 & 86.6 & 12.1 & 38.3 & 5.6 & 13.5 & 7.1 & fire    \\\\\n",
       "\t not fire & Bejaia & 9 & 6 & 2012 & 25 & 88 & 13 & 0.2 & 52.9 &  7.9 & 38.8 & 0.4 & 10.5 & 0.3 & not fire\\\\\n",
       "\t ⋮ & ⋮ & ⋮ & ⋮ & ⋮ & ⋮ & ⋮ & ⋮ & ⋮ & ⋮ & ⋮ & ⋮ & ⋮ & ⋮ & ⋮ & ⋮\\\\\n",
       "\t fire     & Sidi-Bel Abbes & 26 & 9 & 2012 & 30 & 65 & 14 & 0.0 & 85.4 & 16.0 & 44.5 & 4.5 & 16.9 & 6.5 & fire    \\\\\n",
       "\t not fire & Sidi-Bel Abbes & 28 & 9 & 2012 & 27 & 87 & 29 & 0.5 & 45.9 &  3.5 &  7.9 & 0.4 &  3.4 & 0.2 & not fire\\\\\n",
       "\t not fire & Sidi-Bel Abbes & 29 & 9 & 2012 & 24 & 54 & 18 & 0.1 & 79.7 &  4.3 & 15.2 & 1.7 &  5.1 & 0.7 & not fire\\\\\n",
       "\\end{tabular}\n"
      ],
      "text/markdown": [
       "\n",
       "A tibble: 74 × 16\n",
       "\n",
       "| .pred_class &lt;fct&gt; | region &lt;chr&gt; | day &lt;dbl&gt; | month &lt;dbl&gt; | year &lt;dbl&gt; | Temperature &lt;dbl&gt; | RH &lt;dbl&gt; | Ws &lt;dbl&gt; | Rain &lt;dbl&gt; | FFMC &lt;dbl&gt; | DMC &lt;dbl&gt; | DC &lt;dbl&gt; | ISI &lt;dbl&gt; | BUI &lt;dbl&gt; | FWI &lt;dbl&gt; | Classes &lt;fct&gt; |\n",
       "|---|---|---|---|---|---|---|---|---|---|---|---|---|---|---|---|\n",
       "| not fire | Bejaia | 4 | 6 | 2012 | 25 | 89 | 13 | 2.5 | 28.6 |  1.3 |  6.9 | 0.0 |  1.7 | 0.0 | not fire |\n",
       "| fire     | Bejaia | 8 | 6 | 2012 | 30 | 73 | 15 | 0.0 | 86.6 | 12.1 | 38.3 | 5.6 | 13.5 | 7.1 | fire     |\n",
       "| not fire | Bejaia | 9 | 6 | 2012 | 25 | 88 | 13 | 0.2 | 52.9 |  7.9 | 38.8 | 0.4 | 10.5 | 0.3 | not fire |\n",
       "| ⋮ | ⋮ | ⋮ | ⋮ | ⋮ | ⋮ | ⋮ | ⋮ | ⋮ | ⋮ | ⋮ | ⋮ | ⋮ | ⋮ | ⋮ | ⋮ |\n",
       "| fire     | Sidi-Bel Abbes | 26 | 9 | 2012 | 30 | 65 | 14 | 0.0 | 85.4 | 16.0 | 44.5 | 4.5 | 16.9 | 6.5 | fire     |\n",
       "| not fire | Sidi-Bel Abbes | 28 | 9 | 2012 | 27 | 87 | 29 | 0.5 | 45.9 |  3.5 |  7.9 | 0.4 |  3.4 | 0.2 | not fire |\n",
       "| not fire | Sidi-Bel Abbes | 29 | 9 | 2012 | 24 | 54 | 18 | 0.1 | 79.7 |  4.3 | 15.2 | 1.7 |  5.1 | 0.7 | not fire |\n",
       "\n"
      ],
      "text/plain": [
       "   .pred_class region         day month year Temperature RH Ws Rain FFMC DMC \n",
       "1  not fire    Bejaia         4   6     2012 25          89 13 2.5  28.6  1.3\n",
       "2  fire        Bejaia         8   6     2012 30          73 15 0.0  86.6 12.1\n",
       "3  not fire    Bejaia         9   6     2012 25          88 13 0.2  52.9  7.9\n",
       "⋮  ⋮           ⋮              ⋮   ⋮     ⋮    ⋮           ⋮  ⋮  ⋮    ⋮    ⋮   \n",
       "72 fire        Sidi-Bel Abbes 26  9     2012 30          65 14 0.0  85.4 16.0\n",
       "73 not fire    Sidi-Bel Abbes 28  9     2012 27          87 29 0.5  45.9  3.5\n",
       "74 not fire    Sidi-Bel Abbes 29  9     2012 24          54 18 0.1  79.7  4.3\n",
       "   DC   ISI BUI  FWI Classes \n",
       "1   6.9 0.0  1.7 0.0 not fire\n",
       "2  38.3 5.6 13.5 7.1 fire    \n",
       "3  38.8 0.4 10.5 0.3 not fire\n",
       "⋮  ⋮    ⋮   ⋮    ⋮   ⋮       \n",
       "72 44.5 4.5 16.9 6.5 fire    \n",
       "73  7.9 0.4  3.4 0.2 not fire\n",
       "74 15.2 1.7  5.1 0.7 not fire"
      ]
     },
     "metadata": {},
     "output_type": "display_data"
    }
   ],
   "source": [
    "# create a new model with the optimal k-value \n",
    "forest_best_spec <- nearest_neighbor(weight_func = \"rectangular\", neighbors = 15) %>% \n",
    "                    set_engine(\"kknn\") %>% \n",
    "                    set_mode(\"classification\") \n",
    "\n",
    "forest_fit <- workflow() %>% \n",
    "                add_recipe(forest_recipe) %>% \n",
    "                add_model(forest_best_spec) %>% \n",
    "                fit(data = forest_train) \n",
    "\n",
    "forest_predictions <- predict(forest_fit, forest_test) %>% \n",
    "                    bind_cols(forest_test) \n",
    "forest_predictions              "
   ]
  },
  {
   "cell_type": "code",
   "execution_count": 18,
   "id": "9075e07a-bc03-42fc-a8d1-731b0c8976f6",
   "metadata": {},
   "outputs": [
    {
     "data": {
      "text/html": [
       "<table class=\"dataframe\">\n",
       "<caption>A tibble: 1 × 2</caption>\n",
       "<thead>\n",
       "\t<tr><th scope=col>.metric</th><th scope=col>.estimate</th></tr>\n",
       "\t<tr><th scope=col>&lt;chr&gt;</th><th scope=col>&lt;dbl&gt;</th></tr>\n",
       "</thead>\n",
       "<tbody>\n",
       "\t<tr><td>accuracy</td><td>0.972973</td></tr>\n",
       "</tbody>\n",
       "</table>\n"
      ],
      "text/latex": [
       "A tibble: 1 × 2\n",
       "\\begin{tabular}{ll}\n",
       " .metric & .estimate\\\\\n",
       " <chr> & <dbl>\\\\\n",
       "\\hline\n",
       "\t accuracy & 0.972973\\\\\n",
       "\\end{tabular}\n"
      ],
      "text/markdown": [
       "\n",
       "A tibble: 1 × 2\n",
       "\n",
       "| .metric &lt;chr&gt; | .estimate &lt;dbl&gt; |\n",
       "|---|---|\n",
       "| accuracy | 0.972973 |\n",
       "\n"
      ],
      "text/plain": [
       "  .metric  .estimate\n",
       "1 accuracy 0.972973 "
      ]
     },
     "metadata": {},
     "output_type": "display_data"
    }
   ],
   "source": [
    "forest_accuracy <- forest_predictions %>% \n",
    "                metrics(truth = Classes, estimate = .pred_class) %>% \n",
    "                select(.metric, .estimate) %>% \n",
    "                head(1) \n",
    "forest_accuracy"
   ]
  },
  {
   "cell_type": "code",
   "execution_count": 19,
   "id": "3fd266e0-84df-4a19-93a7-7b8e59fe64fd",
   "metadata": {},
   "outputs": [
    {
     "data": {
      "text/plain": [
       "          Truth\n",
       "Prediction not fire fire\n",
       "  not fire       32    2\n",
       "  fire            0   40"
      ]
     },
     "metadata": {},
     "output_type": "display_data"
    }
   ],
   "source": [
    "forest_conf <- forest_predictions %>% \n",
    "                conf_mat(truth = Classes, estimate = .pred_class) \n",
    "forest_conf"
   ]
  },
  {
   "cell_type": "code",
   "execution_count": null,
   "id": "b395398b-e06b-4751-b0c4-6c43a8411bb9",
   "metadata": {},
   "outputs": [],
   "source": []
  }
 ],
 "metadata": {
  "kernelspec": {
   "display_name": "R",
   "language": "R",
   "name": "ir"
  },
  "language_info": {
   "codemirror_mode": "r",
   "file_extension": ".r",
   "mimetype": "text/x-r-source",
   "name": "R",
   "pygments_lexer": "r",
   "version": "4.1.3"
  }
 },
 "nbformat": 4,
 "nbformat_minor": 5
}
